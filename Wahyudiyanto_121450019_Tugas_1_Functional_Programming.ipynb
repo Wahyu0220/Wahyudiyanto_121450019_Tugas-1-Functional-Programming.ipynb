{
  "cells": [
    {
      "cell_type": "markdown",
      "id": "00c085b8",
      "metadata": {
        "id": "00c085b8"
      },
      "source": [
        " Nama  : Wahyudiyanto\n",
        " NIM   : 121450019\n",
        " Kelas : Functional Programming (RB)"
      ]
    },
    {
      "cell_type": "markdown",
      "id": "deb28d5f",
      "metadata": {
        "id": "deb28d5f"
      },
      "source": [
        "1. Jelaskan menggunakan tabel mengenai kelebihan dan kekurangan paradigma procedural dibandingkan dengan object oriented (minimal 3) !"
      ]
    },
    {
      "cell_type": "markdown",
      "id": "e19f6446",
      "metadata": {
        "id": "e19f6446"
      },
      "source": [
        "<table style=\"border-collapse:collapse;border-spacing:0\" class=\"tg\"><thead><tr><th style=\"border-color:inherit;border-style:solid;border-width:1px;color:#000000;font-family:Arial, sans-serif;font-size:14px;font-weight:normal;overflow:hidden;padding:10px 5px;text-align:left;vertical-align:top;word-break:normal\"></th><th style=\"border-color:inherit;border-style:solid;border-width:1px;color:#000000;font-family:Arial, sans-serif;font-size:14px;font-weight:normal;overflow:hidden;padding:10px 5px;text-align:center;vertical-align:top;word-break:normal\"><span style=\"font-weight:bold\">KELEBIHAN</span></th><th style=\"border-color:inherit;border-style:solid;border-width:1px;color:#000000;font-family:Arial, sans-serif;font-size:14px;font-weight:normal;overflow:hidden;padding:10px 5px;text-align:center;vertical-align:top;word-break:normal\"><span style=\"font-weight:bold\">KEKURANGAN</span></th></tr></thead><tbody><tr><td style=\"border-color:inherit;border-style:solid;border-width:1px;color:#000000;font-family:Arial, sans-serif;font-size:14px;overflow:hidden;padding:10px 5px;text-align:center;vertical-align:top;word-break:normal\"><span style=\"font-weight:bold\">Paradigma</span><br><span style=\"font-weight:bold\">Procedural</span></td><td style=\"border-color:inherit;border-style:solid;border-width:1px;color:#000000;font-family:Arial, sans-serif;font-size:14px;overflow:hidden;padding:10px 5px;text-align:left;vertical-align:top;word-break:normal\">- Penulisan program yang<br>sederhana dan terstruktur<br><br>- Penggunaan memori lebih kecil<br><br>- Kemudahan implementasi bagi <br>progammer pemula</td><td style=\"border-color:inherit;border-style:solid;border-width:1px;color:#000000;font-family:Arial, sans-serif;font-size:14px;overflow:hidden;padding:10px 5px;text-align:left;vertical-align:top;word-break:normal\">- Sulit mengubah fungsi <br>yang ada tanpa mengubah <br>sistem secara keseluruhan<br><br>- Kurang aman dari segi <br>penyimpanan data<br><br>- Dapat bekerja kurang <br>baik pada saat terintegrasi<br>dengan sistem lain<br></td></tr><tr><td style=\"border-color:inherit;border-style:solid;border-width:1px;color:#000000;font-family:Arial, sans-serif;font-size:14px;overflow:hidden;padding:10px 5px;text-align:left;vertical-align:top;word-break:normal\"><span style=\"font-weight:bold\">Object Oriented</span></td><td style=\"border-color:inherit;border-style:solid;border-width:1px;color:#000000;font-family:Arial, sans-serif;font-size:14px;overflow:hidden;padding:10px 5px;text-align:left;vertical-align:top;word-break:normal\">- Lebih aman karena dapat<br>melakukan penyembunyian <br>data<br><br>- Mudah dimodifikasi dari data<br> yang ada ke data yang lain<br><br>- Dapat mengubah suatu fungsi<br>tanpa mengubahnya secara<br>keseluruhan</td><td style=\"border-color:inherit;border-style:solid;border-width:1px;color:#000000;font-family:Arial, sans-serif;font-size:14px;overflow:hidden;padding:10px 5px;text-align:left;vertical-align:top;word-break:normal\">- Penggunaan memori yang <br>  lebih besar<br><br>- Sulit dipahami bagi <br>  programmer pemula<br><br>- Terdapat potensi <br>melakukan generalisasi <br>berlebihan karena fungsi <br>dapat berjalan secara <br>berulang</td></tr></tbody></table>"
      ]
    },
    {
      "cell_type": "markdown",
      "id": "8a6497e6",
      "metadata": {
        "id": "8a6497e6"
      },
      "source": [
        "2. Jelaskan menggunakan tabel mengenai kelebihan dan kekurangan paradigma object oriented dibandingkan dengan functional (minimal 3) !"
      ]
    },
    {
      "cell_type": "markdown",
      "id": "95ab34a2",
      "metadata": {
        "id": "95ab34a2"
      },
      "source": [
        "<table style=\"border-collapse:collapse;border-spacing:0\" class=\"tg\"><thead><tr><th style=\"border-color:inherit;border-style:solid;border-width:1px;color:#000000;font-family:Arial, sans-serif;font-size:14px;font-weight:normal;overflow:hidden;padding:10px 5px;text-align:left;vertical-align:top;word-break:normal\"></th><th style=\"border-color:inherit;border-style:solid;border-width:1px;color:#000000;font-family:Arial, sans-serif;font-size:14px;font-weight:normal;overflow:hidden;padding:10px 5px;text-align:center;vertical-align:top;word-break:normal\"><span style=\"font-weight:bold\">KELEBIHAN</span></th><th style=\"border-color:inherit;border-style:solid;border-width:1px;color:#000000;font-family:Arial, sans-serif;font-size:14px;font-weight:normal;overflow:hidden;padding:10px 5px;text-align:center;vertical-align:top;word-break:normal\"><span style=\"font-weight:bold\">KEKURANGAN</span></th></tr></thead><tbody><tr><td style=\"border-color:inherit;border-style:solid;border-width:1px;color:#000000;font-family:Arial, sans-serif;font-size:14px;overflow:hidden;padding:10px 5px;text-align:center;vertical-align:top;word-break:normal\"><span style=\"font-weight:bold\">Paradigma</span><br><span style=\"font-weight:bold\">Object Oriented</span></td><td style=\"border-color:inherit;border-style:solid;border-width:1px;color:#000000;font-family:Arial, sans-serif;font-size:14px;overflow:hidden;padding:10px 5px;text-align:left;vertical-align:top;word-break:normal\">- Lebih fleksibel dalam<br>membangun aplikasi yang<br>kompleks<br><br>- Lebih efektif dalam<br>membuat aplikasi dengan<br>interaksi antar object<br><br>- Mudah dimodifikasi dari<br>data yang ada ke data <br>yang lain</td><td style=\"border-color:inherit;border-style:solid;border-width:1px;color:#000000;font-family:Arial, sans-serif;font-size:14px;overflow:hidden;padding:10px 5px;text-align:left;vertical-align:top;word-break:normal\">- Sulit dipahami bagi<br>progammer pemula<br><br>- Lebih sulit dalam<br>menemukan dan<br>memperbaiki kesalahan<br><br>- Terdapat potensi <br>melakukan generalisasi <br>berlebihan karena fungsi <br>dapat berjalan secara <br>berulang</td></tr><tr><td style=\"border-color:inherit;border-style:solid;border-width:1px;color:#000000;font-family:Arial, sans-serif;font-size:14px;overflow:hidden;padding:10px 5px;text-align:center;vertical-align:top;word-break:normal\"><span style=\"font-weight:bold\">Functional</span></td><td style=\"border-color:inherit;border-style:solid;border-width:1px;color:#000000;font-family:Arial, sans-serif;font-size:14px;overflow:hidden;padding:10px 5px;text-align:left;vertical-align:top;word-break:normal\">- Fungsi menjadi reusable<br>karena dapat dipakai<br>berulang kali<br><br>- Kode lebih mudah dibaca<br>dipahami dari segi alur dan<br>logika program<br><br>- lebih mudah dalam<br>menemukan dan <br>memperbaiki kesalahan<br></td><td style=\"border-color:inherit;border-style:solid;border-width:1px;color:#000000;font-family:Arial, sans-serif;font-size:14px;overflow:hidden;padding:10px 5px;text-align:left;vertical-align:top;word-break:normal\">- Kurang fleksibel dalam<br>membangun aplikasi<br>yang kompleks<br><br>- Efisiensi runtime yang<br>mungkin menjadi masalah<br>karena beberapa operasi<br>memerlukan duplikasi<br>data<br><br>- Kurang efektif dalam<br>membuat aplikasi dengan <br>interaksi antar object<br></td></tr></tbody></table>"
      ]
    },
    {
      "cell_type": "markdown",
      "id": "b081bd3a",
      "metadata": {
        "id": "b081bd3a"
      },
      "source": [
        "3. Jelaskan menggunakan tabel mengenai kelebihan dan kekurangan paradigma procedural dibandingkan dengan functional (minimal 3) !\n"
      ]
    },
    {
      "cell_type": "markdown",
      "id": "e2652a23",
      "metadata": {
        "id": "e2652a23"
      },
      "source": [
        "<table style=\"border-collapse:collapse;border-spacing:0\" class=\"tg\"><thead><tr><th style=\"border-color:inherit;border-style:solid;border-width:1px;color:#000000;font-family:Arial, sans-serif;font-size:14px;font-weight:normal;overflow:hidden;padding:10px 5px;text-align:left;vertical-align:top;word-break:normal\"></th><th style=\"border-color:inherit;border-style:solid;border-width:1px;color:#000000;font-family:Arial, sans-serif;font-size:14px;font-weight:normal;overflow:hidden;padding:10px 5px;text-align:center;vertical-align:top;word-break:normal\"><span style=\"font-weight:bold\">KELEBIHAN</span></th><th style=\"border-color:inherit;border-style:solid;border-width:1px;color:#000000;font-family:Arial, sans-serif;font-size:14px;font-weight:normal;overflow:hidden;padding:10px 5px;text-align:center;vertical-align:top;word-break:normal\"><span style=\"font-weight:bold\">KEKURANGAN</span></th></tr></thead><tbody><tr><td style=\"border-color:inherit;border-style:solid;border-width:1px;color:#000000;font-family:Arial, sans-serif;font-size:14px;overflow:hidden;padding:10px 5px;text-align:center;vertical-align:top;word-break:normal\"><span style=\"font-weight:bold\">Paradigma</span><br><span style=\"font-weight:bold\">Procedural</span></td><td style=\"border-color:inherit;border-style:solid;border-width:1px;color:#000000;font-family:Arial, sans-serif;font-size:14px;overflow:hidden;padding:10px 5px;text-align:left;vertical-align:top;word-break:normal\">- Lebih mudah dipahami<br>bagi pemula dibandingkan<br>functional<br><br>- Lebih efisien dalam<br>penyelesaian masalah<br>dengan prosedur<br>terstruktur<br><br>- Cocok dalam<br>memecahkan masalah<br>dengan logika bersarang<br></td><td style=\"border-color:inherit;border-style:solid;border-width:1px;color:#000000;font-family:Arial, sans-serif;font-size:14px;overflow:hidden;padding:10px 5px;text-align:left;vertical-align:top;word-break:normal\">- Kurang fleksibel dan<br>adaptif dalam perubahan<br>masalah<br><br>- Terkadang prosedur<br>yang terlalu kompleks<br>membuat kode sulit<br>dipahami<br><br>- Terlalu fokus pada<br>urutan proses yang benar<br>sehingga kurang<br>memperhatikan hasil<br>output<br></td></tr><tr><td style=\"border-color:inherit;border-style:solid;border-width:1px;color:#000000;font-family:Arial, sans-serif;font-size:14px;overflow:hidden;padding:10px 5px;text-align:center;vertical-align:top;word-break:normal\"><span style=\"font-weight:bold\">Functional</span></td><td style=\"border-color:inherit;border-style:solid;border-width:1px;color:#000000;font-family:Arial, sans-serif;font-size:14px;overflow:hidden;padding:10px 5px;text-align:left;vertical-align:top;word-break:normal\">- Cocok untuk masalah<br>yang membutuhkan alur<br>yang dinamis dan lebih<br>fleksibel<br><br>- Lebih mudah dalam<br>pemeliharaan dan <br>peningkatan kualitas kode<br><br>- lebih memperhatikan<br>hasil akhir dan fokus pada<br>kualitas output</td><td style=\"border-color:inherit;border-style:solid;border-width:1px;color:#000000;font-family:Arial, sans-serif;font-size:14px;overflow:hidden;padding:10px 5px;text-align:left;vertical-align:top;word-break:normal\">- Lebih sulit dipahami<br>bagi pemula<br><br>- Kurang memperhatikan<br>urutan tahapan proses<br>yang dilakukan<br><br>- Membutuhkan konsep<br>matematika dan logika <br>yang lebih baik<br></td></tr></tbody></table>"
      ]
    },
    {
      "cell_type": "markdown",
      "id": "d97a600d",
      "metadata": {
        "id": "d97a600d"
      },
      "source": [
        "4. Apa yang dimaksud dengan pure functional programming language?"
      ]
    },
    {
      "cell_type": "markdown",
      "id": "38995c8e",
      "metadata": {
        "id": "38995c8e"
      },
      "source": [
        "   *Pure functional programming language* adalah bahasa pemrograman yang hanya menggunakan fungsi sebagai cara untuk memecahkan masalah.Tidak ada definisi pasti tentang kemurnian murni fungsional, tetapi umumnya hal-hal ini :\n",
        "   - Status / data yang tidak dapat diubah,\n",
        "   - Tidak ada efek samping\n",
        "   - Fungsi kelas satu (fungsi dapat diperlakukan sebagai data)\n",
        "   - dll."
      ]
    },
    {
      "cell_type": "markdown",
      "id": "dcfb68f3",
      "metadata": {
        "id": "dcfb68f3"
      },
      "source": [
        "5. Dari bahasa pemrograman FP, manakah yang termasuk pure functional programming language?"
      ]
    },
    {
      "cell_type": "markdown",
      "id": "97c193b0",
      "metadata": {
        "id": "97c193b0"
      },
      "source": [
        "- Haskell,SequenceL, SAC, Elm, dan Hope"
      ]
    },
    {
      "cell_type": "markdown",
      "id": "652833ad",
      "metadata": {
        "id": "652833ad"
      },
      "source": [
        "6. Membuat program Simple Password encryption, dengan ketentuan\n",
        "\n",
        "1.Input password bertipe string dengan batasan panjang password 100 karakter\n",
        "\n",
        "2.Setiap karakter dari string tersebut diubah menjadi ASCII value\n",
        "\n",
        "3.Kemudian setiap ASCII value tersebut dikembangkan menjadi 3 value dengan dilakukan operasi berikut:\n",
        "\n",
        "1.Value pertama dibagi dengan integer 26 kemudian dibulatkan dan dijumlahkan dengan 80 kemudian diubah kembali menjadi karakter\n",
        "\n",
        "2.Value kedua dihitung sisa bagi dengan 26 kemudian dijumlahkan dengan 80 kemudian diubah kembali menjadi karakter\n",
        "\n",
        "3.Value ketiga adalah karakter ‘+’ jika value pertama lebih besar dari value kedua, atau value ketiga adalah karakter ‘-’jika value pertama tidak lebih besar dari value kedua\n",
        "\n",
        "4.Deretkan value pertama, kedua dan ketiga untuk setiap karakter dalam password tersebut sehingga didapatkan password dalam bentuk baru"
      ]
    },
    {
      "cell_type": "code",
      "execution_count": 1,
      "id": "b22a7aa9",
      "metadata": {
        "colab": {
          "base_uri": "https://localhost:8080/"
        },
        "id": "b22a7aa9",
        "outputId": "5fd0e936-e29a-42e9-c3b8-f5bac0216f9f"
      },
      "outputs": [
        {
          "output_type": "stream",
          "name": "stdout",
          "text": [
            "Masukkan Password Anda : #02022002Tao\n",
            "Password awal Anda : #02022002Tao\n",
            "Password terenkripsi : QY-Qf-Qh-Qf-Qh-Qh-Qf-Qf-Qh-SV-Sc-TW-\n"
          ]
        }
      ],
      "source": [
        "def encryption(password):\n",
        "    result = \"\"\n",
        "    for char in password:\n",
        "        ascii = ord(char)   #karakter diubah menjadi ASCII\n",
        "        first_value = (ascii / 26) + 80     #value 1\n",
        "        second_value = (ascii % 26) + 80    #value 2\n",
        "\n",
        "    #value 3\n",
        "        if first_value > second_value:  \n",
        "            third_value = \"+\"\n",
        "        else:\n",
        "            third_value = \"-\"\n",
        "        result += chr(int(first_value)) + chr(int(second_value)) + third_value #gabungan value 1,2, dan 3\n",
        "    return result\n",
        "\n",
        "password = input(\"Masukkan Password Anda : \")\n",
        "if len(password) > 100:\n",
        "    print(\"Maaf, Password terlalu panjang. Harap ketikkan maksimal 100 karakter.\")\n",
        "else:\n",
        "    encrypted_password = encryption(password)\n",
        "    print(\"Password awal Anda : \" + password)\n",
        "    print(\"Password terenkripsi : \" + encrypted_password)"
      ]
    },
    {
      "cell_type": "code",
      "execution_count": null,
      "id": "da794c9b",
      "metadata": {
        "id": "da794c9b"
      },
      "outputs": [],
      "source": []
    }
  ],
  "metadata": {
    "kernelspec": {
      "display_name": "Python 3 (ipykernel)",
      "language": "python",
      "name": "python3"
    },
    "language_info": {
      "codemirror_mode": {
        "name": "ipython",
        "version": 3
      },
      "file_extension": ".py",
      "mimetype": "text/x-python",
      "name": "python",
      "nbconvert_exporter": "python",
      "pygments_lexer": "ipython3",
      "version": "3.11.1"
    },
    "colab": {
      "provenance": []
    }
  },
  "nbformat": 4,
  "nbformat_minor": 5
}